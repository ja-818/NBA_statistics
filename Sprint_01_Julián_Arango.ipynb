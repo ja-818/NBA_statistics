{
  "cells": [
    {
      "cell_type": "markdown",
      "id": "ae010f33-c6b5-475d-acd5-d37df011a5bd",
      "metadata": {
        "id": "ae010f33-c6b5-475d-acd5-d37df011a5bd",
        "tags": []
      },
      "source": [
        "# AnyoneAI - Project I\n",
        "\n",
        "# An analysis of NBA players in the 2021/2022 season"
      ]
    },
    {
      "cell_type": "markdown",
      "id": "feb5643a-e69d-45d5-8143-67e7cac8db62",
      "metadata": {
        "id": "feb5643a-e69d-45d5-8143-67e7cac8db62"
      },
      "source": [
        "Hi! this is the first of several projects we're going to be working on during this course. \n",
        "You will be expected to finish this on your own, but you can use the available channels on Discord to ask questions and help others. Please read the entire notebook before starting, this will give you a better idea of what you need to accomplish.\n",
        "\n",
        "This project will rely heavily in the use of API as data sources. Contrary to most machine learning challenges and competitions, working in the industry usually requires the ML Developer to work with multiple teams and use heterogeneous sources of information to get the necessary data to solve a particular problem. Access to data is often provided through application programming interfaces (APIs), whether internal or external to the organization. It is very important to understand how to interact with APIs to collect data in our day to day work.\n",
        "\n",
        "You might be wondering: why basketball? The main reason is availability of data.\n",
        "\n",
        "The sport is played at a fast pace, with hundreds of plays in each single game, thousands of games in a season, and with a relatively small amount of on-court players, which gives them a lot of interactions with the ball, which in turn provides an oportunity to collect a great amount of data about each player performance."
      ]
    },
    {
      "cell_type": "markdown",
      "id": "01778870-2619-4f79-a9a9-39e5d368cc18",
      "metadata": {
        "id": "01778870-2619-4f79-a9a9-39e5d368cc18"
      },
      "source": [
        "These are the objectives of the project:\n",
        "- Understanding how to query an API to create a dataset with Python and Pandas\n",
        "- Learning how to cleanup a dataset and generate new fields from calculated data\n",
        "- Storing the created dataset in a serialized manner\n",
        "- Generating statistics about the data\n",
        "- Visualizing data"
      ]
    },
    {
      "cell_type": "markdown",
      "id": "67f24c7c-0f5e-4e1e-afe9-d7a1a99665f5",
      "metadata": {
        "id": "67f24c7c-0f5e-4e1e-afe9-d7a1a99665f5"
      },
      "source": [
        "## Introduction"
      ]
    },
    {
      "cell_type": "markdown",
      "id": "efb6e67d-55c9-4af3-9f9b-ca503be01355",
      "metadata": {
        "id": "efb6e67d-55c9-4af3-9f9b-ca503be01355"
      },
      "source": [
        "### A brief description of basketball and the NBA"
      ]
    },
    {
      "cell_type": "markdown",
      "id": "7d6da412-3b11-4541-9165-b4eea8570c3e",
      "metadata": {
        "id": "7d6da412-3b11-4541-9165-b4eea8570c3e"
      },
      "source": [
        "The National Basketball Association is the main basketball league in the United States of America. It currently features 30 teams from different cities, divided in 2 conferences (East and West) of 15 teams. Each team plays a total of 82 games during the regular season. After that, the 8 teams with better records from each conference are seeded in a playoff format, with the winner of each conference playing the finals to determine the eventual champion. NBA seasons usually play out between october of one year, to june of the next year, so for example the current season being played is called the 2021/2022 season.\n",
        "\n",
        "As in most leagues in the world, the game is played 5 vs 5 players, with as many as 9 reserve players that can rotate with the starters as many times as the team wants. Games are played to 48 minutes, so the total amount of minutes of combined play time for any team in a single game with no added time is 240 minutes. If the score is tied at the end of the 48 minutes, 5 minutes of extra time are played, this continues until a winner is decided.\n",
        "\n",
        "Even though they can play multiple positions, players are usually classified according to the following positions:\n",
        "\n",
        "- Guards\n",
        "    - Point Guards\n",
        "    - Shooting Guards\n",
        "- Forwards\n",
        "    - Small Forwards\n",
        "    - Power Forwards\n",
        "- Centers\n",
        "\n",
        "We will mainly focus on the three main positions: Guards/Forwards/Centers"
      ]
    },
    {
      "cell_type": "markdown",
      "id": "6cfdce7d-d6c4-4fb4-8906-4fbca324ab45",
      "metadata": {
        "id": "6cfdce7d-d6c4-4fb4-8906-4fbca324ab45"
      },
      "source": [
        "### The dataset"
      ]
    },
    {
      "cell_type": "markdown",
      "id": "06cbbd6b-4588-4991-890d-c0cdc4240e0a",
      "metadata": {
        "id": "06cbbd6b-4588-4991-890d-c0cdc4240e0a"
      },
      "source": [
        "You'll be in charge of creating our dataset. We want to create a single pandas dataframe with information about all active players in the current NBA season. \n",
        "The dataset needs to have the following structure:\n",
        "\n",
        "- Personal Information\n",
        "    - player_id (int) (INDEX) \n",
        "    - player_name (str)\n",
        "    - team_name (str)\n",
        "    - position (str)\n",
        "    - height (int) (in centimeters) \n",
        "    - weight (float) (in kilograms)\n",
        "    - country of origin (str)\n",
        "    - date_of_birth (datetime)\n",
        "    - age (str) (years and months)\n",
        "    - years_of_experience (int) (years since entering the league)\n",
        "    - Draft position (int)\n",
        "- Player career statistics\n",
        "    - games played (int)\n",
        "    - minutes per game (float)\n",
        "    - points per game (float)\n",
        "    - rebounds per game (float)\n",
        "    - assists per game (float)\n",
        "    - steals per game (float)\n",
        "    - blocks per game (float)\n",
        "- Misc\n",
        "    - salary in dollars (int) (contract value for this season only)"
      ]
    },
    {
      "cell_type": "markdown",
      "id": "a8549d4d-6773-4eaf-939e-7dd96b16d656",
      "metadata": {
        "id": "a8549d4d-6773-4eaf-939e-7dd96b16d656"
      },
      "source": [
        "Here is a sample of how the final result should look like:"
      ]
    },
    {
      "cell_type": "code",
      "execution_count": 9,
      "id": "4d6d7c9f-2030-42d0-87ac-017dbe6a7d19",
      "metadata": {
        "colab": {
          "base_uri": "https://localhost:8080/",
          "height": 274
        },
        "id": "4d6d7c9f-2030-42d0-87ac-017dbe6a7d19",
        "outputId": "685ba4b9-5263-4655-9813-2b00b4605eed"
      },
      "outputs": [
        {
          "data": {
            "text/html": [
              "<div>\n",
              "<style scoped>\n",
              "    .dataframe tbody tr th:only-of-type {\n",
              "        vertical-align: middle;\n",
              "    }\n",
              "\n",
              "    .dataframe tbody tr th {\n",
              "        vertical-align: top;\n",
              "    }\n",
              "\n",
              "    .dataframe thead th {\n",
              "        text-align: right;\n",
              "    }\n",
              "</style>\n",
              "<table border=\"1\" class=\"dataframe\">\n",
              "  <thead>\n",
              "    <tr style=\"text-align: right;\">\n",
              "      <th></th>\n",
              "      <th>PLAYER_NAME</th>\n",
              "      <th>TEAM_NAME</th>\n",
              "      <th>POSITION</th>\n",
              "      <th>HEIGHT</th>\n",
              "      <th>WEIGHT</th>\n",
              "      <th>COUNTRY</th>\n",
              "      <th>BIRTHDATE</th>\n",
              "      <th>SEASON_EXP</th>\n",
              "      <th>DRAFT_NUMBER</th>\n",
              "      <th>GP</th>\n",
              "      <th>MIN</th>\n",
              "      <th>PTS</th>\n",
              "      <th>REB</th>\n",
              "      <th>AST</th>\n",
              "      <th>STL</th>\n",
              "      <th>BLK</th>\n",
              "      <th>SALARY</th>\n",
              "      <th>AGE</th>\n",
              "    </tr>\n",
              "  </thead>\n",
              "  <tbody>\n",
              "    <tr>\n",
              "      <th>200765</th>\n",
              "      <td>Rajon Rondo</td>\n",
              "      <td>Cavaliers</td>\n",
              "      <td>Guard</td>\n",
              "      <td>185</td>\n",
              "      <td>82</td>\n",
              "      <td>USA</td>\n",
              "      <td>1986-02-22</td>\n",
              "      <td>15</td>\n",
              "      <td>21</td>\n",
              "      <td>957</td>\n",
              "      <td>29.9</td>\n",
              "      <td>9.8</td>\n",
              "      <td>4.5</td>\n",
              "      <td>7.9</td>\n",
              "      <td>1.6</td>\n",
              "      <td>0.1</td>\n",
              "      <td>2641691</td>\n",
              "      <td>36 years, 1 months, 19 days</td>\n",
              "    </tr>\n",
              "    <tr>\n",
              "      <th>203107</th>\n",
              "      <td>Tomas Satoransky</td>\n",
              "      <td>Wizards</td>\n",
              "      <td>Guard</td>\n",
              "      <td>201</td>\n",
              "      <td>95</td>\n",
              "      <td>Czech Republic</td>\n",
              "      <td>1991-10-30</td>\n",
              "      <td>5</td>\n",
              "      <td>32</td>\n",
              "      <td>388</td>\n",
              "      <td>22.2</td>\n",
              "      <td>6.9</td>\n",
              "      <td>2.9</td>\n",
              "      <td>4.1</td>\n",
              "      <td>0.8</td>\n",
              "      <td>0.2</td>\n",
              "      <td>10468119</td>\n",
              "      <td>30 years, 5 months, 11 days</td>\n",
              "    </tr>\n",
              "    <tr>\n",
              "      <th>204060</th>\n",
              "      <td>Joe Ingles</td>\n",
              "      <td>Trail Blazers</td>\n",
              "      <td>Forward</td>\n",
              "      <td>203</td>\n",
              "      <td>100</td>\n",
              "      <td>Australia</td>\n",
              "      <td>1987-10-02</td>\n",
              "      <td>7</td>\n",
              "      <td>Undrafted</td>\n",
              "      <td>590</td>\n",
              "      <td>25.7</td>\n",
              "      <td>8.6</td>\n",
              "      <td>3.2</td>\n",
              "      <td>3.8</td>\n",
              "      <td>0.9</td>\n",
              "      <td>0.2</td>\n",
              "      <td>14000000</td>\n",
              "      <td>34 years, 6 months, 8 days</td>\n",
              "    </tr>\n",
              "  </tbody>\n",
              "</table>\n",
              "</div>"
            ],
            "text/plain": [
              "             PLAYER_NAME      TEAM_NAME POSITION  HEIGHT  WEIGHT  \\\n",
              "200765       Rajon Rondo      Cavaliers    Guard     185      82   \n",
              "203107  Tomas Satoransky        Wizards    Guard     201      95   \n",
              "204060        Joe Ingles  Trail Blazers  Forward     203     100   \n",
              "\n",
              "               COUNTRY  BIRTHDATE  SEASON_EXP DRAFT_NUMBER   GP   MIN  PTS  \\\n",
              "200765             USA 1986-02-22          15           21  957  29.9  9.8   \n",
              "203107  Czech Republic 1991-10-30           5           32  388  22.2  6.9   \n",
              "204060       Australia 1987-10-02           7    Undrafted  590  25.7  8.6   \n",
              "\n",
              "        REB  AST  STL  BLK    SALARY                          AGE  \n",
              "200765  4.5  7.9  1.6  0.1   2641691  36 years, 1 months, 19 days  \n",
              "203107  2.9  4.1  0.8  0.2  10468119  30 years, 5 months, 11 days  \n",
              "204060  3.2  3.8  0.9  0.2  14000000   34 years, 6 months, 8 days  "
            ]
          },
          "execution_count": 9,
          "metadata": {},
          "output_type": "execute_result"
        }
      ],
      "source": [
        "import pandas as pd\n",
        "\n",
        "sample_dict = {\n",
        "    'PLAYER_NAME': {200765: 'Rajon Rondo',  203107: 'Tomas Satoransky',  204060: 'Joe Ingles'},\n",
        "    'TEAM_NAME': {200765: 'Cavaliers', 203107: 'Wizards', 204060: 'Trail Blazers'},\n",
        "    'POSITION': {200765: 'Guard', 203107: 'Guard', 204060: 'Forward'},\n",
        "    'HEIGHT': {200765: 185, 203107: 201, 204060: 203},\n",
        "    'WEIGHT': {200765: 82, 203107: 95, 204060: 100},\n",
        "    'COUNTRY': {200765: 'USA', 203107: 'Czech Republic', 204060: 'Australia'},\n",
        "    'BIRTHDATE': {200765: pd.Timestamp('1986-02-22 00:00:00'), 203107: pd.Timestamp('1991-10-30 00:00:00'), 204060: pd.Timestamp('1987-10-02 00:00:00')},\n",
        "    'SEASON_EXP': {200765: 15, 203107: 5, 204060: 7},\n",
        "    'DRAFT_NUMBER': {200765: '21', 203107: '32', 204060: 'Undrafted'},\n",
        "    'GP': {200765: 957, 203107: 388, 204060: 590},\n",
        "    'MIN': {200765: 29.9, 203107: 22.2, 204060: 25.7},\n",
        "    'PTS': {200765: 9.8, 203107: 6.9, 204060: 8.6},\n",
        "    'REB': {200765: 4.5, 203107: 2.9, 204060: 3.2},\n",
        "    'AST': {200765: 7.9, 203107: 4.1, 204060: 3.8},\n",
        "    'STL': {200765: 1.6, 203107: 0.8, 204060: 0.9},\n",
        "    'BLK': {200765: 0.1, 203107: 0.2, 204060: 0.2},\n",
        "    'SALARY': {200765: 2641691, 203107: 10468119, 204060: 14000000},\n",
        "    'AGE': {200765: '36 years, 1 months, 19 days', 203107: '30 years, 5 months, 11 days', 204060: '34 years, 6 months, 8 days'}\n",
        "}\n",
        "pd.DataFrame(sample_dict)"
      ]
    },
    {
      "cell_type": "markdown",
      "id": "2f6e860b-d366-4198-b74e-805fcc7bce6c",
      "metadata": {
        "id": "2f6e860b-d366-4198-b74e-805fcc7bce6c"
      },
      "source": [
        "##1. Collecting information for building our dataset"
      ]
    },
    {
      "cell_type": "markdown",
      "id": "54f9b97d-32f9-4ee1-830c-724d28b85833",
      "metadata": {
        "id": "54f9b97d-32f9-4ee1-830c-724d28b85833"
      },
      "source": [
        "In this section, we're only going to work on collecting the necessary raw data to build the required dataset. Don't worry about finishing everything here, we'll generate the appropiate fields and merge the data into a single dataframe in the next section.\n",
        "\n",
        "To get the information, you can use any public and free API you can find, but you have to provide the code that gets the information here. We recommend using this API:\n",
        " \n",
        "- https://github.com/swar/nba_api\n",
        "\n",
        "    This is a Python library that can be used to obtain data from stats.nba.com, it provides a set of methods that abstracts you from making the http calls, but directly makes calls to nba stats page and parses the results. [Here](https://github.com/swar/nba_api/blob/master/docs/examples/Basics.ipynb) are a couple of examples on how to use it.\n",
        "    \n",
        "\n",
        "A few notes on data collection:\n",
        "\n",
        "- Start simple. Try to get all the required information for 1 player, read the APIs documentation carefuly, then think about how to use them to collect all players data. \n",
        "\n",
        "- Please bear in mind that the most public APIs have some kind of rate limit, so you have to be careful about iterating on data and making lots of requests in a short amount of time (a 1 second delay between calls to the api should be enough). Once you've collected what you needed, save it to file in order to retrieve it later without calling the API again.\n",
        "\n",
        "- A key consideration: we only want data about players that have played in the current season, so make sure to filter those out before collecting the rest of the information.\n",
        "\n",
        "- There is at least one piece of information you're not going to find in both of those APIs: the player contract information. Use the \"contracts.csv\" that is provided to you."
      ]
    },
    {
      "cell_type": "markdown",
      "id": "ae032907-b133-4cf8-8026-85f853755e46",
      "metadata": {
        "id": "ae032907-b133-4cf8-8026-85f853755e46"
      },
      "source": [
        "1.1- Create a function to find all ACTIVE players, meaning players that are listed with a team in the 2021/2022 season. For now you only need the player id, name, and team. Save the dataframe to a csv named \"nba_current_players_list.csv\". The function should return the dataframe."
      ]
    },
    {
      "cell_type": "markdown",
      "id": "ab2a86ef-3be9-42e2-a17d-111924c8ca2a",
      "metadata": {
        "id": "ab2a86ef-3be9-42e2-a17d-111924c8ca2a"
      },
      "source": [
        "Hint: you should find an API method that can give you a list of players in just one call, this way we can filter those players we're interested in, and later will make calls for each specific player."
      ]
    },
    {
      "cell_type": "markdown",
      "id": "b5e2138b-0640-4420-9ca3-dbbe4033620c",
      "metadata": {
        "id": "b5e2138b-0640-4420-9ca3-dbbe4033620c"
      },
      "source": [
        "Consider dropping: \n",
        "- All players with TEAM_ID == 0\n",
        "- All players with GAMES_PLAYED_FLAG == N\n",
        "- Players with id 1630597 & 1630492 (These guys are a problem ;))"
      ]
    },
    {
      "cell_type": "code",
      "execution_count": 242,
      "id": "60b3c863",
      "metadata": {},
      "outputs": [],
      "source": [
        "#Import libraries\n",
        "import pandas as pd\n",
        "from nba_api.stats.endpoints.playercareerstats import PlayerCareerStats\n",
        "from nba_api.stats.endpoints.commonplayerinfo import CommonPlayerInfo\n",
        "from nba_api.stats.endpoints.commonallplayers import CommonAllPlayers\n",
        "from time import sleep\n",
        "import unidecode\n",
        "from dateutil.relativedelta import relativedelta"
      ]
    },
    {
      "cell_type": "code",
      "execution_count": 11,
      "id": "2ce48cb6-3f35-4f62-a652-edc84f171010",
      "metadata": {
        "id": "2ce48cb6-3f35-4f62-a652-edc84f171010"
      },
      "outputs": [],
      "source": [
        "### Complete in this cell: get all active players from the api\n",
        "\n",
        "def get_and_save_players_list():\n",
        "    #Request info from all players\n",
        "    all_players = CommonAllPlayers()\n",
        "\n",
        "    #Get the dataframe with the info from all players\n",
        "    df_all_players = all_players.common_all_players.get_data_frame()\n",
        "\n",
        "    #Data filtering\n",
        "    #Mask to exclude players that didn't play on 2021 or 2022\n",
        "    mask_active_players = df_all_players[\"TO_YEAR\"] >= \"2021\"\n",
        "    #Mask to exclude players whos TEAM_ID is 0\n",
        "    mask_team_id_0 = df_all_players[\"TEAM_ID\"] != 0\n",
        "    #Mask to exclude players with GAMES_PLAYED_FLAG == N\n",
        "    mask_gp_flag_n = df_all_players[\"GAMES_PLAYED_FLAG\"] != \"N\"\n",
        "    #Mask to exclude problematic players (1630597 & 1630492)\n",
        "    mask_problematic_players = (df_all_players[\"PERSON_ID\"] != 1630597) & (df_all_players[\"PERSON_ID\"] != 1630492)\n",
        "    #Apply the masks and save the data to a dataframe\n",
        "    df_current_players = df_all_players[mask_active_players & mask_team_id_0 & mask_gp_flag_n & mask_problematic_players]\n",
        "    return df_current_players"
      ]
    },
    {
      "cell_type": "code",
      "execution_count": 12,
      "id": "d1619cb8-d6cf-4645-b696-a351fac2f3a9",
      "metadata": {
        "id": "d1619cb8-d6cf-4645-b696-a351fac2f3a9"
      },
      "outputs": [],
      "source": [
        "current_players_list = get_and_save_players_list()\n",
        "current_players_list.to_csv(\"nba_current_players_list.csv\")"
      ]
    },
    {
      "cell_type": "markdown",
      "id": "-wKw4EcUuZ8u",
      "metadata": {
        "id": "-wKw4EcUuZ8u"
      },
      "source": [
        "*Don't change anything in this cell, just make it run correctly*"
      ]
    },
    {
      "cell_type": "code",
      "execution_count": 13,
      "id": "wBoSY4CtuamP",
      "metadata": {
        "id": "wBoSY4CtuamP"
      },
      "outputs": [
        {
          "name": "stdout",
          "output_type": "stream",
          "text": [
            "Success!\n"
          ]
        }
      ],
      "source": [
        "if current_players_list.shape == (503, 16):\n",
        "    print('Success!')\n",
        "else:\n",
        "    raise ValueError('The shape is incorrect, please review your function')"
      ]
    },
    {
      "cell_type": "markdown",
      "id": "d8ea7729-4019-4d7e-9167-e412becbf215",
      "metadata": {
        "id": "d8ea7729-4019-4d7e-9167-e412becbf215"
      },
      "source": [
        "1.2- Create a function to find the personal information of all players listed in the dataframe created in the previous step, and save it to a csv file named \"nba_players_personal_info.csv\". The function should also return the created dataframe."
      ]
    },
    {
      "cell_type": "markdown",
      "id": "428bef6b-05d0-4a9a-82cd-71fa81837247",
      "metadata": {
        "id": "428bef6b-05d0-4a9a-82cd-71fa81837247"
      },
      "source": [
        "OPTIONAL: iterating on a list of players and making API calls can be complex and full of errors, try a code block that handles exceptions (for example a timeout from the API) and returns the partial result before it failed, you could also save the partial information to disk."
      ]
    },
    {
      "cell_type": "code",
      "execution_count": 14,
      "id": "541491d1-33eb-4277-afb5-ff449109f680",
      "metadata": {
        "id": "541491d1-33eb-4277-afb5-ff449109f680"
      },
      "outputs": [],
      "source": [
        "### Complete in this cell: Find players personal information (name, age, dob, etc), store the information in a CSV file.\n",
        "\n",
        "def get_players_personal_information(current_players_list):\n",
        "    #Initialize dataframe\n",
        "    df_players_info = pd.DataFrame()\n",
        "\n",
        "    #Loop through current players list to request info for each one\n",
        "    for player in pd.read_csv(\"nba_current_players_list.csv\")[\"PERSON_ID\"]:\n",
        "        #Save the players info\n",
        "        player_info = CommonPlayerInfo(player).common_player_info.get_data_frame()\n",
        "        #Concatenate the player info to the dataframe\n",
        "        df_players_info = pd.concat([df_players_info, player_info], ignore_index=True)\n",
        "        #To prevent problems with the API\n",
        "        sleep(0.5)\n",
        "    return df_players_info"
      ]
    },
    {
      "cell_type": "code",
      "execution_count": 15,
      "id": "d34373b8-fc72-48e1-aef3-654508a27308",
      "metadata": {
        "id": "d34373b8-fc72-48e1-aef3-654508a27308"
      },
      "outputs": [],
      "source": [
        "players_personal_info = get_players_personal_information(current_players_list)\n",
        "players_personal_info.to_csv(\"nba_players_personal_info.csv\")"
      ]
    },
    {
      "cell_type": "markdown",
      "id": "64ZMGw1RzTJA",
      "metadata": {
        "id": "64ZMGw1RzTJA"
      },
      "source": [
        "*Don't change anything in this cell, just make it run correctly*"
      ]
    },
    {
      "cell_type": "code",
      "execution_count": 16,
      "id": "FbhEIlQCzUfX",
      "metadata": {
        "id": "FbhEIlQCzUfX"
      },
      "outputs": [
        {
          "name": "stdout",
          "output_type": "stream",
          "text": [
            "Success!\n"
          ]
        }
      ],
      "source": [
        "if players_personal_info.shape == (503, 33):\n",
        "    print('Success!')\n",
        "else:\n",
        "    raise ValueError('The shape is incorrect, please review your function')"
      ]
    },
    {
      "cell_type": "markdown",
      "id": "299218a4-1d90-4f55-822a-ec059474ea69",
      "metadata": {
        "id": "299218a4-1d90-4f55-822a-ec059474ea69"
      },
      "source": [
        "1.3- Create a function to find players career statistics, store the information in a CSV file called \"nba_players_career_stats.csv\""
      ]
    },
    {
      "cell_type": "code",
      "execution_count": 17,
      "id": "1b579e0d-6899-41ce-8f7f-d7e1e5f463c2",
      "metadata": {
        "id": "1b579e0d-6899-41ce-8f7f-d7e1e5f463c2"
      },
      "outputs": [],
      "source": [
        "### Complete in this cell: find players career stats, save to csv file\n",
        "\n",
        "def get_players_career_stats(current_players_list):\n",
        "    #Initialize dataframe\n",
        "    df_players_info = pd.DataFrame()\n",
        "\n",
        "    #Loop through current players list to request info for each one\n",
        "    for player in pd.read_csv(\"nba_current_players_list.csv\")[\"PERSON_ID\"]:\n",
        "        #Save the players info\n",
        "        player_info = PlayerCareerStats(player).career_totals_regular_season.get_data_frame()\n",
        "        #Concatenate the player info to the dataframe\n",
        "        df_players_info = pd.concat([df_players_info, player_info], ignore_index=True)\n",
        "        #To prevent problems with the API\n",
        "        sleep(0.5)\n",
        "    return df_players_info"
      ]
    },
    {
      "cell_type": "code",
      "execution_count": 18,
      "id": "af100c14-2b06-4019-8a6a-6299f66da4df",
      "metadata": {
        "id": "af100c14-2b06-4019-8a6a-6299f66da4df"
      },
      "outputs": [],
      "source": [
        "players_career_stats = get_players_career_stats(current_players_list)\n",
        "players_career_stats.to_csv(\"nba_players_career_stats.csv\")"
      ]
    },
    {
      "cell_type": "markdown",
      "id": "2ok9xEX0367P",
      "metadata": {
        "id": "2ok9xEX0367P"
      },
      "source": [
        "*Don't change anything in this cell, just make it run correctly*"
      ]
    },
    {
      "cell_type": "code",
      "execution_count": 19,
      "id": "a077c5b4-28c9-4d16-b559-0b1e5caac837",
      "metadata": {
        "id": "a077c5b4-28c9-4d16-b559-0b1e5caac837"
      },
      "outputs": [
        {
          "name": "stdout",
          "output_type": "stream",
          "text": [
            "Success!\n"
          ]
        }
      ],
      "source": [
        "if players_career_stats.shape == (503, 24):\n",
        "    print('Success!')\n",
        "else:\n",
        "    raise ValueError('The shape is incorrect, please review your function')"
      ]
    },
    {
      "cell_type": "markdown",
      "id": "55b8ce09-e5d9-4f82-87db-ffe2916cc431",
      "metadata": {
        "id": "55b8ce09-e5d9-4f82-87db-ffe2916cc431"
      },
      "source": [
        "1.4- Create a function to find players salary for this season. You can get the list of players and salaries from this file: [contracts.csv](https://drive.google.com/file/d/1bxjuIZfMS2_kickukdC3ggdXIVeZE5y7/view?usp=sharing). Download and use this file as input for your function `get_nba_players_salaries()`.\n",
        "\n",
        "Also, inside this function, save the information to a csv called \"nba_players_salary.csv\". Make sure the players names format match the ones in the API, otherwise you won't be able to merge the data later."
      ]
    },
    {
      "cell_type": "markdown",
      "id": "10da071b-ca7d-429e-bb85-e731cd66abb7",
      "metadata": {
        "id": "10da071b-ca7d-429e-bb85-e731cd66abb7"
      },
      "source": [
        "*Hint:* Using data from the Basketball Reference page, you will have to solve 3 kinds of problems:\n",
        "1. Special characters that need to be removed.\n",
        "2. Duplicated values (for which you should keep just the first value) and,\n",
        "3. Players names not matching with the ones from the API. \n",
        "\n",
        "The latter problem has multiple causes, one of them is that some names are written with non ascii characters, we advice you to install and use [Unidecode](https://pypi.org/project/Unidecode/) library to solve this issue."
      ]
    },
    {
      "cell_type": "code",
      "execution_count": 20,
      "id": "cecfecb4-62bb-41b9-b4ae-13b57c3e2198",
      "metadata": {
        "id": "cecfecb4-62bb-41b9-b4ae-13b57c3e2198"
      },
      "outputs": [],
      "source": [
        "### Complete in this cell: find players salary, save the information to csv\n",
        "\n",
        "def get_nba_players_salaries(csv_file_path):\n",
        "    #Read the file and create dataframe\n",
        "    df_raw_salaries = pd.read_csv(csv_file_path, header=1)[[\"Player\", \"2021-22\"]]\n",
        "    #Standarize column names\n",
        "    df_raw_salaries.rename(columns={\"Player\": \"PLAYER_NAME\", \"2021-22\": \"SALARY\"}, inplace=True)\n",
        "    #Clean data\n",
        "    df_raw_salaries.drop_duplicates(inplace=True)\n",
        "    df_raw_salaries.dropna(inplace=True)\n",
        "    #Transform names to ascii\n",
        "    df_raw_salaries[\"PLAYER_NAME\"] = df_raw_salaries[\"PLAYER_NAME\"].apply(lambda x: unidecode.unidecode(x))\n",
        "    #Delete strings that are not part of the players name\n",
        "    df_raw_salaries[\"PLAYER_NAME\"] = df_raw_salaries[\"PLAYER_NAME\"].apply(lambda x: x[:x.find(\"\\\\\")])\n",
        "    #Delete \"$\" from salary column\n",
        "    df_raw_salaries[\"SALARY\"] = df_raw_salaries[\"SALARY\"].apply(lambda x: x.replace(\"$\", \"\"))\n",
        "    \n",
        "    return df_raw_salaries  "
      ]
    },
    {
      "cell_type": "code",
      "execution_count": 21,
      "id": "72f0edd5-c702-463e-8e17-4270a3131bba",
      "metadata": {
        "id": "72f0edd5-c702-463e-8e17-4270a3131bba"
      },
      "outputs": [],
      "source": [
        "players_salaries = get_nba_players_salaries(\"contracts.csv\")\n",
        "players_salaries.to_csv(\"nba_players_salary.csv\")"
      ]
    },
    {
      "cell_type": "markdown",
      "id": "fMAx0F4_2GnM",
      "metadata": {
        "id": "fMAx0F4_2GnM"
      },
      "source": [
        "*Don't change anything in this cell, just make it run correctly*"
      ]
    },
    {
      "cell_type": "code",
      "execution_count": 22,
      "id": "nfSS-Mx_37kV",
      "metadata": {
        "id": "nfSS-Mx_37kV"
      },
      "outputs": [
        {
          "name": "stdout",
          "output_type": "stream",
          "text": [
            "Success!\n"
          ]
        }
      ],
      "source": [
        "index_salary_1 = players_salaries[players_salaries['PLAYER_NAME']=='Kyrie Irving'].index.values[0]\n",
        "index_salary_2 = players_salaries[players_salaries['PLAYER_NAME']=='Luke Kennard'].index.values[0]\n",
        "\n",
        "if players_salaries.SALARY.loc[index_salary_1] == '34916200' and players_salaries.SALARY.loc[index_salary_2] == '12727273':\n",
        "    print('Success!')\n",
        "else:\n",
        "    raise ValueError('The salaries are incorrect, please review your function')"
      ]
    },
    {
      "cell_type": "markdown",
      "id": "5bd1cb5a-d9d1-454e-80d3-81521ac1d94e",
      "metadata": {
        "id": "5bd1cb5a-d9d1-454e-80d3-81521ac1d94e"
      },
      "source": [
        "1.5- Create a function to merge the created dataframes: players_personal_info, players_career_stats, players_next_game, players_salaries. For each dataframe, select only the subset of columns needed to create the dataset described in section \"The Dataset\"\n",
        "\n",
        "    - Players info: \"PLAYER_NAME\", \"TEAM_NAME\", \"POSITION\", \"HEIGHT\", \"WEIGHT\", \"COUNTRY\", \"BIRTHDATE\", \"SEASON_EXP\", \"DRAFT_NUMBER\"\n",
        "    - Players stats: \"GP\", \"MIN\", \"PTS\", \"REB\", \"AST\", \"STL\", \"BLK\"\n",
        "    - Misc: \"SALARY\"\n",
        "\n",
        "Save the result to a csv called \"raw_nba_players_dataset.csv\""
      ]
    },
    {
      "cell_type": "markdown",
      "id": "4bb26887-9030-49dd-aa24-6433df8d6f50",
      "metadata": {
        "id": "4bb26887-9030-49dd-aa24-6433df8d6f50"
      },
      "source": [
        "Hint: Before merging the data, you should make sure all four dataframes have the same length, are indexed by PERSON_ID and have the same keys"
      ]
    },
    {
      "cell_type": "code",
      "execution_count": null,
      "id": "7d568aeb",
      "metadata": {},
      "outputs": [],
      "source": [
        "#Set all indexes to PERSON_ID and drop index name\n",
        "players_personal_info.set_index(\"PERSON_ID\", inplace=True)\n",
        "players_career_stats.set_index(\"PLAYER_ID\", inplace=True)\n",
        "players_personal_info.index.name = None\n",
        "players_career_stats.index.name = None\n",
        "\n",
        "#Create PLAYER_NAME column \n",
        "players_personal_info[\"PLAYER_NAME\"] = players_personal_info['FIRST_NAME'] + \" \" + players_personal_info['LAST_NAME']"
      ]
    },
    {
      "cell_type": "code",
      "execution_count": 78,
      "id": "81bb411a-ecf4-4cd8-8cd8-2d9259397324",
      "metadata": {
        "id": "81bb411a-ecf4-4cd8-8cd8-2d9259397324"
      },
      "outputs": [],
      "source": [
        "### Complete in this cell: merge the dataframes\n",
        "def merge_dataframes(players_personal_info, players_career_stats, players_salaries):    \n",
        "    #Merge first two dataframes\n",
        "    raw_info_df = pd.concat([players_personal_info, players_career_stats], axis=1)\n",
        "    \n",
        "    #Merge last dataframe\n",
        "    raw_info_df = pd.merge(raw_info_df, players_salaries, on=[\"PLAYER_NAME\"], how=\"left\")\n",
        "    \n",
        "    #Filter the columns\n",
        "    raw_info_df = raw_info_df[[\"PLAYER_NAME\", \"TEAM_NAME\", \"POSITION\", \"HEIGHT\", \"WEIGHT\", \"COUNTRY\", \"BIRTHDATE\", \"SEASON_EXP\", \"DRAFT_NUMBER\", \"GP\", \"MIN\", \"PTS\", \"REB\", \"AST\", \"STL\", \"BLK\", \"SALARY\"]]\n",
        "    \n",
        "    return raw_info_df"
      ]
    },
    {
      "cell_type": "code",
      "execution_count": 79,
      "id": "388ceb75-3de2-4e28-a10a-d389d7617905",
      "metadata": {
        "id": "388ceb75-3de2-4e28-a10a-d389d7617905"
      },
      "outputs": [],
      "source": [
        "raw_players_dataset = merge_dataframes(players_personal_info, players_career_stats, players_salaries)\n",
        "raw_players_dataset.to_csv(\"raw_nba_players_dataset.csv\")"
      ]
    },
    {
      "cell_type": "markdown",
      "id": "9gzWHM9CkAlu",
      "metadata": {
        "id": "9gzWHM9CkAlu"
      },
      "source": [
        "*Don't change anything in this cell, just make it run correctly*"
      ]
    },
    {
      "cell_type": "code",
      "execution_count": 80,
      "id": "x-4y5jGgj_ej",
      "metadata": {
        "id": "x-4y5jGgj_ej"
      },
      "outputs": [
        {
          "name": "stdout",
          "output_type": "stream",
          "text": [
            "Success!\n"
          ]
        }
      ],
      "source": [
        "if raw_players_dataset.shape == (503, 17):\n",
        "    print('Success!')\n",
        "else:\n",
        "    raise ValueError('The shape is incorrect, please review your function')"
      ]
    },
    {
      "cell_type": "markdown",
      "id": "b08b2775-dd82-415a-8a6e-46c51b8c3f2b",
      "metadata": {
        "id": "b08b2775-dd82-415a-8a6e-46c51b8c3f2b"
      },
      "source": [
        "##2. Data Cleaning and Preprocessing"
      ]
    },
    {
      "cell_type": "markdown",
      "id": "c52dd5c8-5536-4b0e-a51a-6d7ff4140c0b",
      "metadata": {
        "id": "c52dd5c8-5536-4b0e-a51a-6d7ff4140c0b"
      },
      "source": [
        "There are several steps that you will have to follow, depending on where you have collected the data some information might be missing.  \n",
        "\n",
        "- Height and weight might need to be converted to the metric system\n",
        "- Players that have no team assigned should be removed from the dataset\n",
        "- Players with no contracts (meaning they don't have a salary defined) should be removed from the dataset\n",
        "- If the \"position\" data is ambiguous (listed at multiple positions), use the first value\n",
        "- If the player does not have height or weight data, use the average for its position as its value"
      ]
    },
    {
      "cell_type": "markdown",
      "id": "af006585-e338-429a-a0ef-2598430f8b32",
      "metadata": {
        "id": "af006585-e338-429a-a0ef-2598430f8b32"
      },
      "source": [
        "2.1- Create a copy of your dataset named \"working_df\", remove all players with no teams or salary"
      ]
    },
    {
      "cell_type": "code",
      "execution_count": 87,
      "id": "4327e4da-a3e0-4870-a7a4-abea76fb2205",
      "metadata": {
        "id": "4327e4da-a3e0-4870-a7a4-abea76fb2205"
      },
      "outputs": [],
      "source": [
        "### Complete in this cell: copy the dataset and drop NaNs in team or salary\n",
        "def copy_and_delete_nan(players_dataset):\n",
        "    mask_team_Nan = players_dataset[\"TEAM_NAME\"].notna()\n",
        "    mask_salary_Nan = players_dataset[\"SALARY\"].notna()\n",
        "    return players_dataset[mask_team_Nan & mask_salary_Nan]"
      ]
    },
    {
      "cell_type": "code",
      "execution_count": 88,
      "id": "93e2d191-dadd-481c-91fa-ff5aac1c824b",
      "metadata": {
        "id": "93e2d191-dadd-481c-91fa-ff5aac1c824b"
      },
      "outputs": [],
      "source": [
        "working_df = copy_and_delete_nan(raw_players_dataset)"
      ]
    },
    {
      "cell_type": "markdown",
      "id": "QXUldM_4mpfq",
      "metadata": {
        "id": "QXUldM_4mpfq"
      },
      "source": [
        "*Don't change anything in this cell, just make it run correctly*"
      ]
    },
    {
      "cell_type": "code",
      "execution_count": 89,
      "id": "F8avU7YxmqGY",
      "metadata": {
        "id": "F8avU7YxmqGY"
      },
      "outputs": [
        {
          "ename": "ValueError",
          "evalue": "The shape is incorrect, please review your function",
          "output_type": "error",
          "traceback": [
            "\u001b[1;31m---------------------------------------------------------------------------\u001b[0m",
            "\u001b[1;31mValueError\u001b[0m                                Traceback (most recent call last)",
            "Cell \u001b[1;32mIn [89], line 4\u001b[0m\n\u001b[0;32m      2\u001b[0m     \u001b[38;5;28mprint\u001b[39m(\u001b[38;5;124m'\u001b[39m\u001b[38;5;124mSuccess!\u001b[39m\u001b[38;5;124m'\u001b[39m)\n\u001b[0;32m      3\u001b[0m \u001b[38;5;28;01melse\u001b[39;00m:\n\u001b[1;32m----> 4\u001b[0m     \u001b[38;5;28;01mraise\u001b[39;00m \u001b[38;5;167;01mValueError\u001b[39;00m(\u001b[38;5;124m'\u001b[39m\u001b[38;5;124mThe shape is incorrect, please review your function\u001b[39m\u001b[38;5;124m'\u001b[39m)\n",
            "\u001b[1;31mValueError\u001b[0m: The shape is incorrect, please review your function"
          ]
        }
      ],
      "source": [
        "if working_df.shape == (428, 17):\n",
        "    print('Success!')\n",
        "else:\n",
        "    raise ValueError('The shape is incorrect, please review your function')"
      ]
    },
    {
      "cell_type": "markdown",
      "id": "9ccbdce4-cf4f-48e2-a597-49816f18a400",
      "metadata": {
        "id": "9ccbdce4-cf4f-48e2-a597-49816f18a400"
      },
      "source": [
        "2.2- Cast Salary and Birthday columns to its corresponding type (int, datetime)"
      ]
    },
    {
      "cell_type": "code",
      "execution_count": 104,
      "id": "3085fc9c",
      "metadata": {},
      "outputs": [
        {
          "data": {
            "text/plain": [
              "0     1999-09-19\n",
              "1     1993-07-20\n",
              "2     1997-07-18\n",
              "3     2001-01-10\n",
              "4     1985-07-19\n",
              "         ...    \n",
              "495   1992-04-26\n",
              "499   1988-06-21\n",
              "500   1998-09-19\n",
              "501   1998-06-19\n",
              "502   1997-03-18\n",
              "Name: BIRTHDATE, Length: 429, dtype: datetime64[ns]"
            ]
          },
          "execution_count": 104,
          "metadata": {},
          "output_type": "execute_result"
        }
      ],
      "source": [
        "pd.to_datetime(working_df[\"BIRTHDATE\"])"
      ]
    },
    {
      "cell_type": "code",
      "execution_count": 112,
      "id": "d3b4d50c-4677-4014-88cc-78f142811b8b",
      "metadata": {
        "id": "d3b4d50c-4677-4014-88cc-78f142811b8b"
      },
      "outputs": [],
      "source": [
        "### Complete in this cell: cast all columns to its type\n",
        "def cast_columns(working_df):\n",
        "    working_df[\"SALARY\"] = working_df[\"SALARY\"].apply(lambda x: int(x))\n",
        "    working_df[\"BIRTHDATE\"] = pd.to_datetime(working_df[\"BIRTHDATE\"])\n",
        "    pass"
      ]
    },
    {
      "cell_type": "code",
      "execution_count": 113,
      "id": "680875dc-2478-4213-b2f7-4a1da03ec71f",
      "metadata": {
        "id": "680875dc-2478-4213-b2f7-4a1da03ec71f"
      },
      "outputs": [
        {
          "name": "stderr",
          "output_type": "stream",
          "text": [
            "C:\\Users\\julia\\AppData\\Local\\Temp\\ipykernel_11340\\2590110733.py:3: SettingWithCopyWarning: \n",
            "A value is trying to be set on a copy of a slice from a DataFrame.\n",
            "Try using .loc[row_indexer,col_indexer] = value instead\n",
            "\n",
            "See the caveats in the documentation: https://pandas.pydata.org/pandas-docs/stable/user_guide/indexing.html#returning-a-view-versus-a-copy\n",
            "  working_df[\"SALARY\"] = working_df[\"SALARY\"].apply(lambda x: int(x))\n",
            "C:\\Users\\julia\\AppData\\Local\\Temp\\ipykernel_11340\\2590110733.py:4: SettingWithCopyWarning: \n",
            "A value is trying to be set on a copy of a slice from a DataFrame.\n",
            "Try using .loc[row_indexer,col_indexer] = value instead\n",
            "\n",
            "See the caveats in the documentation: https://pandas.pydata.org/pandas-docs/stable/user_guide/indexing.html#returning-a-view-versus-a-copy\n",
            "  working_df[\"BIRTHDATE\"] = pd.to_datetime(working_df[\"BIRTHDATE\"])\n"
          ]
        }
      ],
      "source": [
        "cast_columns(working_df)"
      ]
    },
    {
      "cell_type": "markdown",
      "id": "ognZ7EzVnu2J",
      "metadata": {
        "id": "ognZ7EzVnu2J"
      },
      "source": [
        "*Don't change anything in this cell, just make it run correctly*"
      ]
    },
    {
      "cell_type": "code",
      "execution_count": 114,
      "id": "qLJTtnxQnvTf",
      "metadata": {
        "id": "qLJTtnxQnvTf"
      },
      "outputs": [
        {
          "name": "stdout",
          "output_type": "stream",
          "text": [
            "Success!\n"
          ]
        }
      ],
      "source": [
        "if working_df.SALARY.dtype == 'int64' and working_df.BIRTHDATE.dtype == '<M8[ns]':\n",
        "    print('Success!')\n",
        "else:\n",
        "    raise ValueError('The types are incorrect, please review your function')"
      ]
    },
    {
      "cell_type": "markdown",
      "id": "f20f28d7-e6a1-4e6d-a51b-80ef8be06fd5",
      "metadata": {
        "id": "f20f28d7-e6a1-4e6d-a51b-80ef8be06fd5"
      },
      "source": [
        "2.3- Create a function that converts the height column from height in feet and inches to centimeters"
      ]
    },
    {
      "cell_type": "code",
      "execution_count": 115,
      "id": "a4867793",
      "metadata": {},
      "outputs": [
        {
          "data": {
            "text/html": [
              "<div>\n",
              "<style scoped>\n",
              "    .dataframe tbody tr th:only-of-type {\n",
              "        vertical-align: middle;\n",
              "    }\n",
              "\n",
              "    .dataframe tbody tr th {\n",
              "        vertical-align: top;\n",
              "    }\n",
              "\n",
              "    .dataframe thead th {\n",
              "        text-align: right;\n",
              "    }\n",
              "</style>\n",
              "<table border=\"1\" class=\"dataframe\">\n",
              "  <thead>\n",
              "    <tr style=\"text-align: right;\">\n",
              "      <th></th>\n",
              "      <th>PLAYER_NAME</th>\n",
              "      <th>TEAM_NAME</th>\n",
              "      <th>POSITION</th>\n",
              "      <th>HEIGHT</th>\n",
              "      <th>WEIGHT</th>\n",
              "      <th>COUNTRY</th>\n",
              "      <th>BIRTHDATE</th>\n",
              "      <th>SEASON_EXP</th>\n",
              "      <th>DRAFT_NUMBER</th>\n",
              "      <th>GP</th>\n",
              "      <th>MIN</th>\n",
              "      <th>PTS</th>\n",
              "      <th>REB</th>\n",
              "      <th>AST</th>\n",
              "      <th>STL</th>\n",
              "      <th>BLK</th>\n",
              "      <th>SALARY</th>\n",
              "    </tr>\n",
              "  </thead>\n",
              "  <tbody>\n",
              "    <tr>\n",
              "      <th>0</th>\n",
              "      <td>Precious Achiuwa</td>\n",
              "      <td>Raptors</td>\n",
              "      <td>Forward</td>\n",
              "      <td>6-8</td>\n",
              "      <td>225</td>\n",
              "      <td>Nigeria</td>\n",
              "      <td>1999-09-19</td>\n",
              "      <td>2</td>\n",
              "      <td>20</td>\n",
              "      <td>134</td>\n",
              "      <td>2462.0</td>\n",
              "      <td>968</td>\n",
              "      <td>681</td>\n",
              "      <td>111</td>\n",
              "      <td>57</td>\n",
              "      <td>69</td>\n",
              "      <td>2711280</td>\n",
              "    </tr>\n",
              "    <tr>\n",
              "      <th>1</th>\n",
              "      <td>Steven Adams</td>\n",
              "      <td>Grizzlies</td>\n",
              "      <td>Center</td>\n",
              "      <td>6-11</td>\n",
              "      <td>265</td>\n",
              "      <td>New Zealand</td>\n",
              "      <td>1993-07-20</td>\n",
              "      <td>9</td>\n",
              "      <td>12</td>\n",
              "      <td>664</td>\n",
              "      <td>17811.0</td>\n",
              "      <td>6157</td>\n",
              "      <td>5303</td>\n",
              "      <td>982</td>\n",
              "      <td>588</td>\n",
              "      <td>629</td>\n",
              "      <td>17073171</td>\n",
              "    </tr>\n",
              "    <tr>\n",
              "      <th>2</th>\n",
              "      <td>Bam Adebayo</td>\n",
              "      <td>Heat</td>\n",
              "      <td>Center-Forward</td>\n",
              "      <td>6-9</td>\n",
              "      <td>255</td>\n",
              "      <td>USA</td>\n",
              "      <td>1997-07-18</td>\n",
              "      <td>5</td>\n",
              "      <td>14</td>\n",
              "      <td>343</td>\n",
              "      <td>9666.0</td>\n",
              "      <td>4617</td>\n",
              "      <td>2850</td>\n",
              "      <td>1189</td>\n",
              "      <td>340</td>\n",
              "      <td>309</td>\n",
              "      <td>28103550</td>\n",
              "    </tr>\n",
              "    <tr>\n",
              "      <th>3</th>\n",
              "      <td>Santi Aldama</td>\n",
              "      <td>Grizzlies</td>\n",
              "      <td>Forward-Center</td>\n",
              "      <td>6-11</td>\n",
              "      <td>215</td>\n",
              "      <td>Spain</td>\n",
              "      <td>2001-01-10</td>\n",
              "      <td>1</td>\n",
              "      <td>30</td>\n",
              "      <td>32</td>\n",
              "      <td>360.0</td>\n",
              "      <td>132</td>\n",
              "      <td>87</td>\n",
              "      <td>21</td>\n",
              "      <td>6</td>\n",
              "      <td>10</td>\n",
              "      <td>1994520</td>\n",
              "    </tr>\n",
              "    <tr>\n",
              "      <th>4</th>\n",
              "      <td>LaMarcus Aldridge</td>\n",
              "      <td>Nets</td>\n",
              "      <td>Center-Forward</td>\n",
              "      <td>6-11</td>\n",
              "      <td>250</td>\n",
              "      <td>USA</td>\n",
              "      <td>1985-07-19</td>\n",
              "      <td>16</td>\n",
              "      <td>2</td>\n",
              "      <td>1076</td>\n",
              "      <td>36242.0</td>\n",
              "      <td>20558</td>\n",
              "      <td>8736</td>\n",
              "      <td>2076</td>\n",
              "      <td>758</td>\n",
              "      <td>1187</td>\n",
              "      <td>2641691</td>\n",
              "    </tr>\n",
              "    <tr>\n",
              "      <th>...</th>\n",
              "      <td>...</td>\n",
              "      <td>...</td>\n",
              "      <td>...</td>\n",
              "      <td>...</td>\n",
              "      <td>...</td>\n",
              "      <td>...</td>\n",
              "      <td>...</td>\n",
              "      <td>...</td>\n",
              "      <td>...</td>\n",
              "      <td>...</td>\n",
              "      <td>...</td>\n",
              "      <td>...</td>\n",
              "      <td>...</td>\n",
              "      <td>...</td>\n",
              "      <td>...</td>\n",
              "      <td>...</td>\n",
              "      <td>...</td>\n",
              "    </tr>\n",
              "    <tr>\n",
              "      <th>495</th>\n",
              "      <td>Delon Wright</td>\n",
              "      <td>Wizards</td>\n",
              "      <td>Guard</td>\n",
              "      <td>6-5</td>\n",
              "      <td>185</td>\n",
              "      <td>USA</td>\n",
              "      <td>1992-04-26</td>\n",
              "      <td>7</td>\n",
              "      <td>20</td>\n",
              "      <td>411</td>\n",
              "      <td>8577.0</td>\n",
              "      <td>2952</td>\n",
              "      <td>1318</td>\n",
              "      <td>1246</td>\n",
              "      <td>474</td>\n",
              "      <td>148</td>\n",
              "      <td>8526316</td>\n",
              "    </tr>\n",
              "    <tr>\n",
              "      <th>499</th>\n",
              "      <td>Thaddeus Young</td>\n",
              "      <td>Raptors</td>\n",
              "      <td>Forward</td>\n",
              "      <td>6-8</td>\n",
              "      <td>235</td>\n",
              "      <td>USA</td>\n",
              "      <td>1988-06-21</td>\n",
              "      <td>15</td>\n",
              "      <td>12</td>\n",
              "      <td>1085</td>\n",
              "      <td>31778.0</td>\n",
              "      <td>13848</td>\n",
              "      <td>6345</td>\n",
              "      <td>2003</td>\n",
              "      <td>1535</td>\n",
              "      <td>448</td>\n",
              "      <td>14190000</td>\n",
              "    </tr>\n",
              "    <tr>\n",
              "      <th>500</th>\n",
              "      <td>Trae Young</td>\n",
              "      <td>Hawks</td>\n",
              "      <td>Guard</td>\n",
              "      <td>6-1</td>\n",
              "      <td>164</td>\n",
              "      <td>USA</td>\n",
              "      <td>1998-09-19</td>\n",
              "      <td>4</td>\n",
              "      <td>5</td>\n",
              "      <td>280</td>\n",
              "      <td>9400.0</td>\n",
              "      <td>7076</td>\n",
              "      <td>1085</td>\n",
              "      <td>2544</td>\n",
              "      <td>262</td>\n",
              "      <td>42</td>\n",
              "      <td>8326471</td>\n",
              "    </tr>\n",
              "    <tr>\n",
              "      <th>501</th>\n",
              "      <td>Omer Yurtseven</td>\n",
              "      <td>Heat</td>\n",
              "      <td>Center</td>\n",
              "      <td>6-11</td>\n",
              "      <td>275</td>\n",
              "      <td>Turkey</td>\n",
              "      <td>1998-06-19</td>\n",
              "      <td>1</td>\n",
              "      <td>Undrafted</td>\n",
              "      <td>56</td>\n",
              "      <td>706.0</td>\n",
              "      <td>299</td>\n",
              "      <td>294</td>\n",
              "      <td>49</td>\n",
              "      <td>17</td>\n",
              "      <td>20</td>\n",
              "      <td>1489065</td>\n",
              "    </tr>\n",
              "    <tr>\n",
              "      <th>502</th>\n",
              "      <td>Ivica Zubac</td>\n",
              "      <td>Clippers</td>\n",
              "      <td>Center</td>\n",
              "      <td>7-0</td>\n",
              "      <td>240</td>\n",
              "      <td>Croatia</td>\n",
              "      <td>1997-03-18</td>\n",
              "      <td>6</td>\n",
              "      <td>32</td>\n",
              "      <td>360</td>\n",
              "      <td>6844.0</td>\n",
              "      <td>3001</td>\n",
              "      <td>2350</td>\n",
              "      <td>410</td>\n",
              "      <td>112</td>\n",
              "      <td>304</td>\n",
              "      <td>7518518</td>\n",
              "    </tr>\n",
              "  </tbody>\n",
              "</table>\n",
              "<p>429 rows × 17 columns</p>\n",
              "</div>"
            ],
            "text/plain": [
              "           PLAYER_NAME  TEAM_NAME        POSITION HEIGHT WEIGHT      COUNTRY  \\\n",
              "0     Precious Achiuwa    Raptors         Forward    6-8    225      Nigeria   \n",
              "1         Steven Adams  Grizzlies          Center   6-11    265  New Zealand   \n",
              "2          Bam Adebayo       Heat  Center-Forward    6-9    255          USA   \n",
              "3         Santi Aldama  Grizzlies  Forward-Center   6-11    215        Spain   \n",
              "4    LaMarcus Aldridge       Nets  Center-Forward   6-11    250          USA   \n",
              "..                 ...        ...             ...    ...    ...          ...   \n",
              "495       Delon Wright    Wizards           Guard    6-5    185          USA   \n",
              "499     Thaddeus Young    Raptors         Forward    6-8    235          USA   \n",
              "500         Trae Young      Hawks           Guard    6-1    164          USA   \n",
              "501     Omer Yurtseven       Heat          Center   6-11    275       Turkey   \n",
              "502        Ivica Zubac   Clippers          Center    7-0    240      Croatia   \n",
              "\n",
              "     BIRTHDATE  SEASON_EXP DRAFT_NUMBER    GP      MIN    PTS   REB   AST  \\\n",
              "0   1999-09-19           2           20   134   2462.0    968   681   111   \n",
              "1   1993-07-20           9           12   664  17811.0   6157  5303   982   \n",
              "2   1997-07-18           5           14   343   9666.0   4617  2850  1189   \n",
              "3   2001-01-10           1           30    32    360.0    132    87    21   \n",
              "4   1985-07-19          16            2  1076  36242.0  20558  8736  2076   \n",
              "..         ...         ...          ...   ...      ...    ...   ...   ...   \n",
              "495 1992-04-26           7           20   411   8577.0   2952  1318  1246   \n",
              "499 1988-06-21          15           12  1085  31778.0  13848  6345  2003   \n",
              "500 1998-09-19           4            5   280   9400.0   7076  1085  2544   \n",
              "501 1998-06-19           1    Undrafted    56    706.0    299   294    49   \n",
              "502 1997-03-18           6           32   360   6844.0   3001  2350   410   \n",
              "\n",
              "      STL   BLK    SALARY  \n",
              "0      57    69   2711280  \n",
              "1     588   629  17073171  \n",
              "2     340   309  28103550  \n",
              "3       6    10   1994520  \n",
              "4     758  1187   2641691  \n",
              "..    ...   ...       ...  \n",
              "495   474   148   8526316  \n",
              "499  1535   448  14190000  \n",
              "500   262    42   8326471  \n",
              "501    17    20   1489065  \n",
              "502   112   304   7518518  \n",
              "\n",
              "[429 rows x 17 columns]"
            ]
          },
          "execution_count": 115,
          "metadata": {},
          "output_type": "execute_result"
        }
      ],
      "source": [
        "working_df"
      ]
    },
    {
      "cell_type": "code",
      "execution_count": 135,
      "id": "f14dd998",
      "metadata": {},
      "outputs": [
        {
          "data": {
            "text/html": [
              "<div>\n",
              "<style scoped>\n",
              "    .dataframe tbody tr th:only-of-type {\n",
              "        vertical-align: middle;\n",
              "    }\n",
              "\n",
              "    .dataframe tbody tr th {\n",
              "        vertical-align: top;\n",
              "    }\n",
              "\n",
              "    .dataframe thead th {\n",
              "        text-align: right;\n",
              "    }\n",
              "</style>\n",
              "<table border=\"1\" class=\"dataframe\">\n",
              "  <thead>\n",
              "    <tr style=\"text-align: right;\">\n",
              "      <th></th>\n",
              "      <th>PLAYER_NAME</th>\n",
              "      <th>TEAM_NAME</th>\n",
              "      <th>POSITION</th>\n",
              "      <th>HEIGHT</th>\n",
              "      <th>WEIGHT</th>\n",
              "      <th>COUNTRY</th>\n",
              "      <th>BIRTHDATE</th>\n",
              "      <th>SEASON_EXP</th>\n",
              "      <th>DRAFT_NUMBER</th>\n",
              "      <th>GP</th>\n",
              "      <th>MIN</th>\n",
              "      <th>PTS</th>\n",
              "      <th>REB</th>\n",
              "      <th>AST</th>\n",
              "      <th>STL</th>\n",
              "      <th>BLK</th>\n",
              "      <th>SALARY</th>\n",
              "    </tr>\n",
              "  </thead>\n",
              "  <tbody>\n",
              "    <tr>\n",
              "      <th>244</th>\n",
              "      <td>Luke Kennard</td>\n",
              "      <td>Clippers</td>\n",
              "      <td>Guard</td>\n",
              "      <td>6-5</td>\n",
              "      <td>206</td>\n",
              "      <td>USA</td>\n",
              "      <td>1996-06-24T00:00:00</td>\n",
              "      <td>5</td>\n",
              "      <td>12</td>\n",
              "      <td>297</td>\n",
              "      <td>6973.0</td>\n",
              "      <td>2966</td>\n",
              "      <td>847</td>\n",
              "      <td>603</td>\n",
              "      <td>147</td>\n",
              "      <td>44</td>\n",
              "      <td>12727273</td>\n",
              "    </tr>\n",
              "  </tbody>\n",
              "</table>\n",
              "</div>"
            ],
            "text/plain": [
              "      PLAYER_NAME TEAM_NAME POSITION HEIGHT WEIGHT COUNTRY  \\\n",
              "244  Luke Kennard  Clippers    Guard    6-5    206     USA   \n",
              "\n",
              "               BIRTHDATE  SEASON_EXP DRAFT_NUMBER   GP     MIN   PTS  REB  \\\n",
              "244  1996-06-24T00:00:00           5           12  297  6973.0  2966  847   \n",
              "\n",
              "     AST  STL  BLK    SALARY  \n",
              "244  603  147   44  12727273  "
            ]
          },
          "execution_count": 135,
          "metadata": {},
          "output_type": "execute_result"
        }
      ],
      "source": [
        "raw_players_dataset[raw_players_dataset[\"PLAYER_NAME\"] == \"Luke Kennard\"]"
      ]
    },
    {
      "cell_type": "code",
      "execution_count": 130,
      "id": "8d56db84-cb66-4ca5-8789-b8b6f7938a0b",
      "metadata": {
        "id": "8d56db84-cb66-4ca5-8789-b8b6f7938a0b"
      },
      "outputs": [],
      "source": [
        "### Complete in this cell: convert height column\n",
        "def convert_height_column(working_df):\n",
        "    #Convert string into float\n",
        "    height_in_feet = working_df[\"HEIGHT\"].str.replace(\"-\", \".\").apply(lambda x: float(x))\n",
        "    #Convert feet to cm \n",
        "    height_in_cm = height_in_feet.apply(lambda x: x * 30.48).apply(lambda x: int(x))\n",
        "    working_df[\"HEIGHT\"] = height_in_cm\n",
        "    pass"
      ]
    },
    {
      "cell_type": "code",
      "execution_count": 131,
      "id": "a0d50bed-0dc9-4672-a446-f677b7282bb0",
      "metadata": {
        "id": "a0d50bed-0dc9-4672-a446-f677b7282bb0"
      },
      "outputs": [
        {
          "name": "stderr",
          "output_type": "stream",
          "text": [
            "C:\\Users\\julia\\AppData\\Local\\Temp\\ipykernel_11340\\3839695539.py:5: SettingWithCopyWarning: \n",
            "A value is trying to be set on a copy of a slice from a DataFrame.\n",
            "Try using .loc[row_indexer,col_indexer] = value instead\n",
            "\n",
            "See the caveats in the documentation: https://pandas.pydata.org/pandas-docs/stable/user_guide/indexing.html#returning-a-view-versus-a-copy\n",
            "  working_df[\"HEIGHT\"] = height_in_cm\n"
          ]
        }
      ],
      "source": [
        "convert_height_column(working_df)"
      ]
    },
    {
      "cell_type": "markdown",
      "id": "01JY5A4lqmZP",
      "metadata": {
        "id": "01JY5A4lqmZP"
      },
      "source": [
        "*Don't change anything in this cell, just make it run correctly*"
      ]
    },
    {
      "cell_type": "code",
      "execution_count": 133,
      "id": "ThmJ0I74qmxm",
      "metadata": {
        "id": "ThmJ0I74qmxm"
      },
      "outputs": [
        {
          "name": "stdout",
          "output_type": "stream",
          "text": [
            "188\n",
            "198\n"
          ]
        },
        {
          "ename": "ValueError",
          "evalue": "The values are incorrect, please review your function",
          "output_type": "error",
          "traceback": [
            "\u001b[1;31m---------------------------------------------------------------------------\u001b[0m",
            "\u001b[1;31mValueError\u001b[0m                                Traceback (most recent call last)",
            "Cell \u001b[1;32mIn [133], line 9\u001b[0m\n\u001b[0;32m      7\u001b[0m \u001b[38;5;28mprint\u001b[39m(working_df\u001b[38;5;241m.\u001b[39mHEIGHT\u001b[38;5;241m.\u001b[39mloc[index_df_1])\n\u001b[0;32m      8\u001b[0m \u001b[38;5;28mprint\u001b[39m(working_df\u001b[38;5;241m.\u001b[39mHEIGHT\u001b[38;5;241m.\u001b[39mloc[index_df_2])\n\u001b[1;32m----> 9\u001b[0m \u001b[38;5;28;01mraise\u001b[39;00m \u001b[38;5;167;01mValueError\u001b[39;00m(\u001b[38;5;124m'\u001b[39m\u001b[38;5;124mThe values are incorrect, please review your function\u001b[39m\u001b[38;5;124m'\u001b[39m)\n",
            "\u001b[1;31mValueError\u001b[0m: The values are incorrect, please review your function"
          ]
        }
      ],
      "source": [
        "index_df_1 = working_df[working_df['PLAYER_NAME']=='Kyrie Irving'].index.values[0]\n",
        "index_df_2 = working_df[working_df['PLAYER_NAME']=='Luke Kennard'].index.values[0]\n",
        "\n",
        "if working_df.HEIGHT.loc[index_df_1] == 188 and working_df.HEIGHT.loc[index_df_2] == 196:\n",
        "    print('Success!')\n",
        "else:\n",
        "    print(working_df.HEIGHT.loc[index_df_1])\n",
        "    print(working_df.HEIGHT.loc[index_df_2])\n",
        "    raise ValueError('The values are incorrect, please review your function')"
      ]
    },
    {
      "cell_type": "markdown",
      "id": "a611380e-47fe-4e81-8312-25876fb2025d",
      "metadata": {
        "id": "a611380e-47fe-4e81-8312-25876fb2025d"
      },
      "source": [
        "2.4- Create a function that converts the weight column from pounds to kilograms"
      ]
    },
    {
      "cell_type": "code",
      "execution_count": 138,
      "id": "1532605a-d642-40c8-a15f-a8825b8276bd",
      "metadata": {
        "id": "1532605a-d642-40c8-a15f-a8825b8276bd"
      },
      "outputs": [],
      "source": [
        "### Complete in this cell: convert weight column\n",
        "def convert_weight_column(working_df):\n",
        "    #Convert pounds to kg\n",
        "    weight_in_km = working_df[\"WEIGHT\"].apply(lambda x: float(x) * 0.45359237).apply(lambda x: int(x))\n",
        "    working_df[\"WEIGHT\"] = weight_in_km\n",
        "    pass"
      ]
    },
    {
      "cell_type": "code",
      "execution_count": 139,
      "id": "34ea64a1-1269-48f1-a76a-492c9e9f8adb",
      "metadata": {
        "id": "34ea64a1-1269-48f1-a76a-492c9e9f8adb"
      },
      "outputs": [
        {
          "name": "stderr",
          "output_type": "stream",
          "text": [
            "C:\\Users\\julia\\AppData\\Local\\Temp\\ipykernel_11340\\1758614525.py:5: SettingWithCopyWarning: \n",
            "A value is trying to be set on a copy of a slice from a DataFrame.\n",
            "Try using .loc[row_indexer,col_indexer] = value instead\n",
            "\n",
            "See the caveats in the documentation: https://pandas.pydata.org/pandas-docs/stable/user_guide/indexing.html#returning-a-view-versus-a-copy\n",
            "  working_df[\"WEIGHT\"] = weight_in_km\n"
          ]
        }
      ],
      "source": [
        "convert_weight_column(working_df)"
      ]
    },
    {
      "cell_type": "markdown",
      "id": "1BsDGhB6sLGn",
      "metadata": {
        "id": "1BsDGhB6sLGn"
      },
      "source": [
        "*Don't change anything in this cell, just make it run correctly*"
      ]
    },
    {
      "cell_type": "code",
      "execution_count": 140,
      "id": "-eLuDOo8sLbJ",
      "metadata": {
        "id": "-eLuDOo8sLbJ"
      },
      "outputs": [
        {
          "name": "stdout",
          "output_type": "stream",
          "text": [
            "Success!\n"
          ]
        }
      ],
      "source": [
        "if working_df.WEIGHT.loc[index_df_1] == 88 and working_df.WEIGHT.loc[index_df_2] == 93:\n",
        "    print('Success!')\n",
        "else:\n",
        "    raise ValueError('The values are incorrect, please review your function')"
      ]
    },
    {
      "cell_type": "markdown",
      "id": "0d94c670-4e24-479a-aed1-c72a1082b452",
      "metadata": {
        "id": "0d94c670-4e24-479a-aed1-c72a1082b452"
      },
      "source": [
        "2.5- Create a function that calculates the age in (years, months, days) and saves it in a new string column named \"AGE\", example: \"22 years, 5 months, 25 days\" "
      ]
    },
    {
      "cell_type": "code",
      "execution_count": 243,
      "id": "1f7ec1c5-2820-4660-8c93-1a2ad44e3bb0",
      "metadata": {
        "id": "1f7ec1c5-2820-4660-8c93-1a2ad44e3bb0"
      },
      "outputs": [],
      "source": [
        "### Complete in this cell: add age column\n",
        "def add_age_column(working_df):\n",
        "    today = pd.Timestamp(pd.Timestamp.now().date())\n",
        "    working_df[\"AGE\"] = working_df[\"BIRTHDATE\"].apply(lambda x: relativedelta(today, x))\n",
        "    working_df[\"AGE\"] = working_df[\"AGE\"].apply(lambda x: f\"{x.years} years, {x.months} months, {x.days} days\")\n",
        "    pass"
      ]
    },
    {
      "cell_type": "code",
      "execution_count": 244,
      "id": "7796ed0f-4711-442b-865e-d8b09be3e227",
      "metadata": {
        "id": "7796ed0f-4711-442b-865e-d8b09be3e227"
      },
      "outputs": [
        {
          "name": "stderr",
          "output_type": "stream",
          "text": [
            "C:\\Users\\julia\\AppData\\Local\\Temp\\ipykernel_11340\\2382834862.py:4: SettingWithCopyWarning: \n",
            "A value is trying to be set on a copy of a slice from a DataFrame.\n",
            "Try using .loc[row_indexer,col_indexer] = value instead\n",
            "\n",
            "See the caveats in the documentation: https://pandas.pydata.org/pandas-docs/stable/user_guide/indexing.html#returning-a-view-versus-a-copy\n",
            "  working_df[\"AGE\"] = working_df[\"BIRTHDATE\"].apply(lambda x: relativedelta(today, x))\n",
            "C:\\Users\\julia\\AppData\\Local\\Temp\\ipykernel_11340\\2382834862.py:5: SettingWithCopyWarning: \n",
            "A value is trying to be set on a copy of a slice from a DataFrame.\n",
            "Try using .loc[row_indexer,col_indexer] = value instead\n",
            "\n",
            "See the caveats in the documentation: https://pandas.pydata.org/pandas-docs/stable/user_guide/indexing.html#returning-a-view-versus-a-copy\n",
            "  working_df[\"AGE\"] = working_df[\"AGE\"].apply(lambda x: f\"{x.years} years, {x.months} months, {x.days} days\")\n"
          ]
        }
      ],
      "source": [
        "add_age_column(working_df)"
      ]
    },
    {
      "cell_type": "markdown",
      "id": "25b55463-d16e-4635-a951-caaeb5a6795b",
      "metadata": {
        "id": "25b55463-d16e-4635-a951-caaeb5a6795b"
      },
      "source": [
        "2.6- Create a function that takes care of the disambiguation of the \"POSITION\" column. Should replace all positions that are mixed with the first one listed."
      ]
    },
    {
      "cell_type": "code",
      "execution_count": 3,
      "id": "84d4b44b",
      "metadata": {},
      "outputs": [
        {
          "data": {
            "text/plain": [
              "'Center'"
            ]
          },
          "execution_count": 3,
          "metadata": {},
          "output_type": "execute_result"
        }
      ],
      "source": [
        "#working_df[\"POSITION\"].unique()\n",
        "position = \"Center-Forward\"\n",
        "if \"-\" in position:\n",
        "  pos = position.split(\"-\")[0]\n",
        "pos"
      ]
    },
    {
      "cell_type": "code",
      "execution_count": 1,
      "id": "b32acf08-6ffa-4dae-9cfb-8ff783b6ce5b",
      "metadata": {
        "id": "b32acf08-6ffa-4dae-9cfb-8ff783b6ce5b"
      },
      "outputs": [],
      "source": [
        "### Complete in this cell: disambiguation of the position column\n",
        "def update_position(working_df):\n",
        "    #If \"-\" is in the value of POSITION that means that there are more than one positions \n",
        "    #If that's the case, split it on \"-\" char and return the first position\n",
        "    working_df[\"POSITION\"].apply(lambda position: position.split(\"-\")[0] if(\"-\" in position) else position)\n",
        "    pass"
      ]
    },
    {
      "cell_type": "code",
      "execution_count": 2,
      "id": "6bdc5317-86cd-48ad-96ca-945f8f493bef",
      "metadata": {
        "id": "6bdc5317-86cd-48ad-96ca-945f8f493bef"
      },
      "outputs": [
        {
          "ename": "NameError",
          "evalue": "name 'working_df' is not defined",
          "output_type": "error",
          "traceback": [
            "\u001b[1;31m---------------------------------------------------------------------------\u001b[0m",
            "\u001b[1;31mNameError\u001b[0m                                 Traceback (most recent call last)",
            "Cell \u001b[1;32mIn [2], line 1\u001b[0m\n\u001b[1;32m----> 1\u001b[0m update_position(\u001b[43mworking_df\u001b[49m)\n",
            "\u001b[1;31mNameError\u001b[0m: name 'working_df' is not defined"
          ]
        }
      ],
      "source": [
        "update_position(working_df)"
      ]
    },
    {
      "cell_type": "markdown",
      "id": "cYmdlncI0Kzo",
      "metadata": {
        "id": "cYmdlncI0Kzo"
      },
      "source": [
        "*Don't change anything in this cell, just make it run correctly*"
      ]
    },
    {
      "cell_type": "code",
      "execution_count": 261,
      "id": "60xXfNhC0Lh3",
      "metadata": {
        "id": "60xXfNhC0Lh3"
      },
      "outputs": [
        {
          "name": "stdout",
          "output_type": "stream",
          "text": [
            "Success!\n"
          ]
        }
      ],
      "source": [
        "if working_df.POSITION.loc[index_df_1] == 'Guard' and working_df.POSITION.loc[index_df_2] == 'Guard':\n",
        "    print('Success!')\n",
        "else:\n",
        "    raise ValueError('The values are incorrect, please review your function')"
      ]
    },
    {
      "cell_type": "markdown",
      "id": "0cad9445-eee0-4fdf-b745-a0aac7138c87",
      "metadata": {
        "id": "0cad9445-eee0-4fdf-b745-a0aac7138c87"
      },
      "source": [
        "2.7- Review that the working dataset has all requested columns with its corresponding datatypes and save it as a csv with name \"nba_players_processed_dataset.csv\""
      ]
    },
    {
      "cell_type": "code",
      "execution_count": null,
      "id": "7b423e20-c9f6-449a-8d8a-497bd464811d",
      "metadata": {
        "id": "7b423e20-c9f6-449a-8d8a-497bd464811d"
      },
      "outputs": [],
      "source": [
        "working_df.to_csv(\"nba_players_processed_dataset.csv\")"
      ]
    },
    {
      "cell_type": "markdown",
      "id": "6e794f61-3cc8-4899-a999-858a3cf0b959",
      "metadata": {
        "id": "6e794f61-3cc8-4899-a999-858a3cf0b959"
      },
      "source": [
        "##3. Analyzing and Visualizing data"
      ]
    },
    {
      "cell_type": "markdown",
      "id": "754b6690-e0c7-42ce-ac4a-45d000a5d9a8",
      "metadata": {
        "id": "754b6690-e0c7-42ce-ac4a-45d000a5d9a8"
      },
      "source": [
        "Now that we have the data, let's do some work"
      ]
    },
    {
      "cell_type": "markdown",
      "id": "b3f4a2fc-1f4f-4a18-ad43-fb125317395b",
      "metadata": {
        "id": "b3f4a2fc-1f4f-4a18-ad43-fb125317395b"
      },
      "source": [
        "3.1- Calculate and print the following metrics:\n",
        "\n",
        "    - General metrics:\n",
        "        - Total number of players\n",
        "        - Number of USA born players\n",
        "        - Number of foreign players\n",
        "        - Number of players per position\n",
        "        - Number of players per team\n",
        "        - Number of rookies (first year players)\n",
        "    - Players description\n",
        "        - Average player age (in years)\n",
        "        - Youngest player age (as a string, like: \"22 years, 5 months, 25 days\")\n",
        "        - Oldest player age (as a string, like: \"40 years, 2 months, 3 days\")\n",
        "        - Min and Max players height\n",
        "        - Average height of players per position\n",
        "    - Contracts\n",
        "        - Min and Max salary of all players\n",
        "        - Mean and Median salary of all players\n",
        "\n",
        "Bonus: if you can, calculate how many players retired between the end of the 2020-2021 season and the start of the 2021-22 season."
      ]
    },
    {
      "cell_type": "code",
      "execution_count": null,
      "id": "b5f62de4-8ddb-4377-a87c-a3cc655b6321",
      "metadata": {
        "id": "b5f62de4-8ddb-4377-a87c-a3cc655b6321"
      },
      "outputs": [],
      "source": [
        "### Complete in this cell: print general metrics\n"
      ]
    },
    {
      "cell_type": "code",
      "execution_count": null,
      "id": "660fe44e-b928-4097-999a-2b8f269fa32d",
      "metadata": {
        "id": "660fe44e-b928-4097-999a-2b8f269fa32d"
      },
      "outputs": [],
      "source": [
        "### Complete in this cell: print players descriptions\n",
        "    "
      ]
    },
    {
      "cell_type": "code",
      "execution_count": null,
      "id": "42c6c5e5-e800-479b-b575-12a578e53400",
      "metadata": {
        "id": "42c6c5e5-e800-479b-b575-12a578e53400"
      },
      "outputs": [],
      "source": [
        "### Complete in this cell: Contracts\n"
      ]
    },
    {
      "cell_type": "markdown",
      "id": "3a146e0c-ce0d-4e0c-971e-5b21e13fa077",
      "metadata": {
        "id": "3a146e0c-ce0d-4e0c-971e-5b21e13fa077"
      },
      "source": [
        "3.2- Plot the relationship between scoring (points per game) and salary of all players, the players positions should also be visible."
      ]
    },
    {
      "cell_type": "code",
      "execution_count": null,
      "id": "da36f3c1-0e69-47fd-a39c-67ce53f72851",
      "metadata": {
        "id": "da36f3c1-0e69-47fd-a39c-67ce53f72851"
      },
      "outputs": [],
      "source": [
        "### Complete in this cell:  Relationship between scoring and salary (in millions of dollars)\n"
      ]
    },
    {
      "cell_type": "markdown",
      "id": "0e188438-5ea0-4299-9597-3e038661710f",
      "metadata": {
        "id": "0e188438-5ea0-4299-9597-3e038661710f"
      },
      "source": [
        "3.3- Now plot assists-vs-salary and rebounding-vs-salary"
      ]
    },
    {
      "cell_type": "code",
      "execution_count": null,
      "id": "47fe0a50-996c-46a3-bd3c-f3863d4bc176",
      "metadata": {
        "id": "47fe0a50-996c-46a3-bd3c-f3863d4bc176"
      },
      "outputs": [],
      "source": [
        "### Complete in this cell: plot assist-vs-salary, rebounding-vs-salary\n"
      ]
    },
    {
      "cell_type": "markdown",
      "id": "6d33d74b-dbc1-4d7d-93ab-72d0f12de486",
      "metadata": {
        "id": "6d33d74b-dbc1-4d7d-93ab-72d0f12de486"
      },
      "source": [
        "3.4- When NBA players enter the league, they have low value salaries during what is called their \"rookie contract\". This means that it doesn't matter how well the player performs, they can't have large salaries. This can distort our understanding of how much teams value each skill, as a player could score 50 points a game and still earn just a couple of millions. So, lets now plot points, assists and rebounding vs salary, but only for players that have more than 4 years of experience (the typical length of a rookie contract)"
      ]
    },
    {
      "cell_type": "code",
      "execution_count": null,
      "id": "761750a3-0349-4e3e-ad56-cbb829117565",
      "metadata": {
        "id": "761750a3-0349-4e3e-ad56-cbb829117565"
      },
      "outputs": [],
      "source": [
        "### Complete in this cell: non rookie contracts\n"
      ]
    },
    {
      "cell_type": "markdown",
      "id": "e52dcf3d-a009-47c4-b4a3-a5cb94e66b2e",
      "metadata": {
        "id": "e52dcf3d-a009-47c4-b4a3-a5cb94e66b2e"
      },
      "source": [
        "3.5- Plot the scoring average grouped by position, we want to be able to see median, quartiles, etc "
      ]
    },
    {
      "cell_type": "code",
      "execution_count": null,
      "id": "e85a80b1-1e1c-4b97-881b-41caa3473436",
      "metadata": {
        "id": "e85a80b1-1e1c-4b97-881b-41caa3473436"
      },
      "outputs": [],
      "source": [
        "### Complete in this cell: Scoring average grouped by position\n"
      ]
    },
    {
      "cell_type": "markdown",
      "id": "2a669e88-8555-4e7c-aab7-83d3683dd26e",
      "metadata": {
        "id": "2a669e88-8555-4e7c-aab7-83d3683dd26e"
      },
      "source": [
        "3.6- Plot the Height distribution of all players"
      ]
    },
    {
      "cell_type": "code",
      "execution_count": null,
      "id": "648e15f1-d120-413e-b244-15c88fdc914f",
      "metadata": {
        "id": "648e15f1-d120-413e-b244-15c88fdc914f"
      },
      "outputs": [],
      "source": [
        "### Complete in this cell: height distribution\n"
      ]
    },
    {
      "cell_type": "markdown",
      "id": "42f87010-5100-4331-907b-8b602226fbb2",
      "metadata": {
        "id": "42f87010-5100-4331-907b-8b602226fbb2"
      },
      "source": [
        "OPTIONAL: Can you find a way to draw a world map and show how many active players per country the NBA has? [Example](https://i.redd.it/8qymui9fnin71.jpg)"
      ]
    },
    {
      "cell_type": "code",
      "execution_count": null,
      "id": "MKj0O8xAl460",
      "metadata": {
        "id": "MKj0O8xAl460"
      },
      "outputs": [],
      "source": []
    }
  ],
  "metadata": {
    "colab": {
      "collapsed_sections": [],
      "provenance": []
    },
    "kernelspec": {
      "display_name": "Python 3.10.7 ('.venv': venv)",
      "language": "python",
      "name": "python3"
    },
    "language_info": {
      "codemirror_mode": {
        "name": "ipython",
        "version": 3
      },
      "file_extension": ".py",
      "mimetype": "text/x-python",
      "name": "python",
      "nbconvert_exporter": "python",
      "pygments_lexer": "ipython3",
      "version": "3.10.7"
    },
    "vscode": {
      "interpreter": {
        "hash": "fab40bdd1e774cf0d520271d4ea7d48c30d86cd1d9f44f6fd2303d28a0e87cb4"
      }
    }
  },
  "nbformat": 4,
  "nbformat_minor": 5
}
